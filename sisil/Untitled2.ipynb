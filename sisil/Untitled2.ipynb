{
 "cells": [
  {
   "cell_type": "code",
   "execution_count": 6,
   "id": "8793c695",
   "metadata": {},
   "outputs": [
    {
     "name": "stdout",
     "output_type": "stream",
     "text": [
      "{'channel': '1', 'stat': '172.16.1.232'}\n",
      "1\n",
      "172.16.1.232\n"
     ]
    }
   ],
   "source": [
    "data = \"{channel:1,stat:172.16.1.232}\"\n",
    "\n",
    "# Membuang karakter kurung kurawal di awal dan akhir string\n",
    "data = data.strip('{}')\n",
    "\n",
    "# Membagi string berdasarkan koma (\",\") untuk mendapatkan pasangan key-value\n",
    "pairs = data.split(',')\n",
    "\n",
    "# Membuat kamus (dictionary) untuk menyimpan pasangan key-value\n",
    "result = {}\n",
    "\n",
    "for pair in pairs:\n",
    "    # Membagi setiap pasangan key-value berdasarkan titik dua (\":\")\n",
    "    key, value = pair.split(':')\n",
    "    \n",
    "    # Membersihkan spasi dari key dan value\n",
    "    key = key.strip()\n",
    "    value = value.strip()\n",
    "    \n",
    "    # Menambahkan pasangan key-value ke dalam kamus\n",
    "    result[key] = value\n",
    "\n",
    "channel_value = result.get('channel')\n",
    "stat_value = result.get('stat')\n",
    "# Sekarang, Anda memiliki data yang diparsing dalam bentuk kamus\n",
    "print(result)\n",
    "print(channel_value)\n",
    "print(stat_value)"
   ]
  }
 ],
 "metadata": {
  "kernelspec": {
   "display_name": "Python 3 (ipykernel)",
   "language": "python",
   "name": "python3"
  },
  "language_info": {
   "codemirror_mode": {
    "name": "ipython",
    "version": 3
   },
   "file_extension": ".py",
   "mimetype": "text/x-python",
   "name": "python",
   "nbconvert_exporter": "python",
   "pygments_lexer": "ipython3",
   "version": "3.10.12"
  }
 },
 "nbformat": 4,
 "nbformat_minor": 5
}
