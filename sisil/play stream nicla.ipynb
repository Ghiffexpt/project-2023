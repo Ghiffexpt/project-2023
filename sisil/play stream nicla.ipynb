{
 "cells": [
  {
   "cell_type": "code",
   "execution_count": 2,
   "id": "a7cb67fb",
   "metadata": {},
   "outputs": [
    {
     "name": "stderr",
     "output_type": "stream",
     "text": [
      "Warning: Ignoring XDG_SESSION_TYPE=wayland on Gnome. Use QT_QPA_PLATFORM=wayland to run on Wayland anyway.\n"
     ]
    }
   ],
   "source": [
    "import cv2\n",
    "\n",
    "# URL MJPEG stream\n",
    "mjpeg_url = 'http://172.16.3.119:8080'  # Ganti dengan URL aliran MJPEG yang sesuai\n",
    "\n",
    "# Buat objek VideoCapture untuk aliran MJPEG\n",
    "cap = cv2.VideoCapture(mjpeg_url, cv2.CAP_ANY)\n",
    "\n",
    "while True:\n",
    "    # Baca frame dari aliran MJPEG\n",
    "    ret, frame = cap.read()\n",
    "\n",
    "    if not ret:\n",
    "        break\n",
    "\n",
    "    # Tampilkan frame\n",
    "    cv2.imshow('MJPEG Stream', frame)\n",
    "\n",
    "    # Tekan tombol 'q' untuk keluar\n",
    "    if cv2.waitKey(1) & 0xFF == ord('q'):\n",
    "        break\n",
    "\n",
    "# Tutup objek VideoCapture dan jendela tampilan\n",
    "cap.release()\n",
    "cv2.destroyAllWindows()\n"
   ]
  },
  {
   "cell_type": "code",
   "execution_count": null,
   "id": "5b9103a8",
   "metadata": {},
   "outputs": [
    {
     "name": "stdout",
     "output_type": "stream",
     "text": [
      "Server berjalan di 172.16.2.72:8080\n",
      "Client terhubung\n",
      "Koneksi ditutup\n"
     ]
    },
    {
     "name": "stderr",
     "output_type": "stream",
     "text": [
      "[ WARN:1@358.244] global /io/opencv/modules/videoio/src/cap_v4l.cpp (889) open VIDEOIO(V4L2:/dev/video0): can't open camera by index\n"
     ]
    },
    {
     "name": "stdout",
     "output_type": "stream",
     "text": [
      "Client terhubung\n",
      "Koneksi ditutup\n"
     ]
    },
    {
     "name": "stderr",
     "output_type": "stream",
     "text": [
      "[ WARN:2@531.271] global /io/opencv/modules/videoio/src/cap_v4l.cpp (889) open VIDEOIO(V4L2:/dev/video0): can't open camera by index\n"
     ]
    },
    {
     "name": "stdout",
     "output_type": "stream",
     "text": [
      "Client terhubung\n",
      "Koneksi ditutup\n"
     ]
    },
    {
     "name": "stderr",
     "output_type": "stream",
     "text": [
      "[ WARN:3@558.719] global /io/opencv/modules/videoio/src/cap_v4l.cpp (889) open VIDEOIO(V4L2:/dev/video0): can't open camera by index\n"
     ]
    },
    {
     "name": "stdout",
     "output_type": "stream",
     "text": [
      "Client terhubung\n",
      "Koneksi ditutup\n"
     ]
    },
    {
     "name": "stderr",
     "output_type": "stream",
     "text": [
      "[ WARN:4@573.665] global /io/opencv/modules/videoio/src/cap_v4l.cpp (889) open VIDEOIO(V4L2:/dev/video0): can't open camera by index\n"
     ]
    },
    {
     "name": "stdout",
     "output_type": "stream",
     "text": [
      "Client terhubung\n",
      "Koneksi ditutup\n"
     ]
    },
    {
     "name": "stderr",
     "output_type": "stream",
     "text": [
      "[ WARN:5@659.298] global /io/opencv/modules/videoio/src/cap_v4l.cpp (889) open VIDEOIO(V4L2:/dev/video0): can't open camera by index\n"
     ]
    }
   ],
   "source": [
    "import cv2\n",
    "import socket\n",
    "import threading\n",
    "\n",
    "# Inisialisasi server socket\n",
    "host = '172.16.2.72'  # Ganti dengan alamat IP server Anda\n",
    "port = 8080       # Port untuk menerima koneksi MJPEG\n",
    "\n",
    "server_socket = socket.socket(socket.AF_INET, socket.SOCK_STREAM)\n",
    "server_socket.bind((host, port))\n",
    "server_socket.listen(5)\n",
    "\n",
    "print(f\"Server berjalan di {host}:{port}\")\n",
    "\n",
    "def handle_client(client_socket):\n",
    "    try:\n",
    "        print(\"Client terhubung\")\n",
    "        client_socket.send(b'HTTP/1.1 200 OK\\r\\n')\n",
    "        client_socket.send(b'Content-Type: multipart/x-mixed-replace; boundary=frame\\r\\n')\n",
    "        \n",
    "        # Inisialisasi kamera (ganti dengan konfigurasi kamera Anda)\n",
    "        cap = cv2.VideoCapture(0)\n",
    "\n",
    "        while True:\n",
    "            ret, frame = cap.read()\n",
    "            if not ret:\n",
    "                break\n",
    "            \n",
    "            # Konversi frame menjadi format MJPEG\n",
    "            _, buffer = cv2.imencode('.jpg', frame)\n",
    "            frame_data = buffer.tobytes()\n",
    "\n",
    "            # Kirim frame MJPEG ke klien\n",
    "            client_socket.send(b'--frame\\r\\n')\n",
    "            client_socket.send(b'Content-Type: image/jpeg\\r\\n\\r\\n')\n",
    "            client_socket.send(frame_data)\n",
    "\n",
    "    except Exception as e:\n",
    "        print(f\"Error: {e}\")\n",
    "    finally:\n",
    "        client_socket.close()\n",
    "        print(\"Koneksi ditutup\")\n",
    "\n",
    "while True:\n",
    "    client_sock, addr = server_socket.accept()\n",
    "    client_handler = threading.Thread(target=handle_client, args=(client_sock,))\n",
    "    client_handler.start()\n"
   ]
  },
  {
   "cell_type": "code",
   "execution_count": null,
   "id": "08235c9e",
   "metadata": {},
   "outputs": [
    {
     "name": "stdout",
     "output_type": "stream",
     "text": [
      "Server berjalan di 172.16.2.72:8080\n",
      "Client terhubung\n",
      "b'\\r\\n--openmv\\r\\nContent-Type: image/jpeg\\r\\nContent-Length:9955\\r\\n\\r\\n\\xff\\xd8\\xff\\xe0\\x00\\x10JFIF\\x00\\x01\\x01\\x01\\x00\\x00\\x00\\x00\\x00\\x00\\xff\\xfe\\x00\\x0c\\x00\\x00\\x00\\x00\\x00\\x00\\x00\\x00\\x00\\x00\\xff\\xdb\\x00C\\x00\\x17\\x10\\x11\\x14\\x11\\x0e\\x17\\x14\\x12\\x14\\x1a\\x18\\x17\\x1b\"9%\"\\x1f\\x1f\"F25)9RHWUQHPN[f\\x83o[a|bNPr\\x9bs|\\x87\\x8b\\x92\\x94\\x92Xm\\xa0\\xac\\x9f\\x8e\\xaa\\x83\\x8f\\x92\\x8d\\xff\\xdb\\x00C\\x01\\x18\\x1a\\x1a\"\\x1e\"C%%C\\x8d^P^\\x8d\\x8d\\x8d\\x8d\\x8d\\x8d\\x8d\\x8d\\x8d\\x8d\\x8d\\x8d\\x8d\\x8d\\x8d\\x8d\\x8d\\x8d\\x8d\\x8d\\x8d\\x8d\\x8d\\x8d\\x8d\\x8d\\x8d\\x8d\\x8d\\x8d\\x8d\\x8d\\x8d\\x8d\\x8d\\x8d\\x8d\\x8d\\x8d\\x8d\\x8d\\x8d\\x8d\\x8d\\x8d\\x8d\\x8d\\x8d\\x8d\\x8d\\xff\\xc0\\x00\\x11\\x08\\x01\\xe0\\x02\\x80\\x03\\x01\\x11\\x00\\x02\\x11\\x01\\x03\\x11\\x01\\xff\\xc4\\x00\\x1f\\x00\\x00\\x01\\x05\\x01\\x01\\x01\\x01\\x01\\x01\\x00\\x00\\x00\\x00\\x00\\x00\\x00\\x00\\x01\\x02\\x03\\x04\\x05\\x06\\x07\\x08\\t\\n\\x0b\\xff\\xc4\\x00\\xb5\\x10\\x00\\x02\\x01\\x03\\x03\\x02\\x04\\x03\\x05\\x05\\x04\\x04\\x00\\x00\\x01}\\x01\\x02\\x03\\x00\\x04\\x11\\x05\\x12!1A\\x06\\x13Qa\\x07\"q\\x142\\x81\\x91\\xa1\\x08#B\\xb1\\xc1\\x15R\\xd1\\xf0$3br\\x82\\t\\n\\x16\\x17\\x18\\x19\\x1a%&\\'()*456789:CDEFGHIJSTUVWXYZcdefghijstuvwxyz\\x83\\x84\\x85\\x86\\x87\\x88\\x89\\x8a\\x92\\x93\\x94\\x95\\x96\\x97\\x98\\x99\\x9a\\xa2\\xa3\\xa4\\xa5\\xa6\\xa7\\xa8\\xa9\\xaa\\xb2\\xb3\\xb4\\xb5\\xb6\\xb7\\xb8\\xb9\\xba\\xc2\\xc3\\xc4\\xc5\\xc6\\xc7\\xc8\\xc9\\xca\\xd2\\xd3\\xd4\\xd5\\xd6\\xd7\\xd8\\xd9\\xda\\xe1\\xe2\\xe3\\xe4\\xe5\\xe6\\xe7\\xe8\\xe9\\xea\\xf1\\xf2\\xf3\\xf4\\xf5\\xf6\\xf7\\xf8\\xf9\\xfa\\xff\\xc4\\x00\\x1f\\x01\\x00\\x03\\x01\\x01\\x01\\x01\\x01\\x01\\x01\\x01\\x01\\x00\\x00\\x00\\x00\\x00\\x00\\x01\\x02\\x03\\x04\\x05\\x06\\x07\\x08\\t\\n\\x0b\\xff\\xc4\\x00\\xb5\\x11\\x00\\x02\\x01\\x02\\x04\\x04\\x03\\x04\\x07\\x05\\x04\\x04\\x00\\x01\\x02w\\x00\\x01\\x02\\x03\\x11\\x04\\x05!1\\x06\\x12AQ\\x07aq\\x13\"2\\x81\\x08\\x14B\\x91\\xa1\\xb1\\xc1\\t#3R\\xf0\\x15br\\xd1\\n\\x16$4\\xe1%\\xf1\\x17\\x18\\x19\\x1a&\\'()*56789:CDEFGHIJSTUVWXYZcdefghijstuvwxyz\\x82\\x83\\x84\\x85\\x86\\x87\\x88\\x89\\x8a\\x92\\x93\\x94\\x95\\x96\\x97\\x98\\x99\\x9a\\xa2\\xa3\\xa4\\xa5\\xa6\\xa7\\xa8\\xa9\\xaa\\xb2\\xb3\\xb4\\xb5\\xb6\\xb7\\xb8\\xb9\\xba\\xc2\\xc3\\xc4\\xc5\\xc6\\xc7\\xc8\\xc9\\xca\\xd2\\xd3\\xd4\\xd5\\xd6\\xd7\\xd8\\xd9\\xda\\xe2\\xe3\\xe4\\xe5\\xe6\\xe7\\xe8\\xe9\\xea\\xf2\\xf3\\xf4\\xf5\\xf6\\xf7\\xf8\\xf9\\xfa\\xff\\xda\\x00\\x0c\\x03\\x01\\x00\\x02\\x11\\x03\\x11\\x00?\\x00\\xa5@\\x0b@\\x05\\x00\\x14\\x00P\\x01@\\x05\\x00\\x14\\x00P\\x02\\xd0\\x01@\\x05\\x00\\x14\\x80(\\x00\\xa0\\x05\\xa6\\x01@\\x05\\x03\\n\\x04\\x14\\x00P\\x02\\xd2\\x00\\xa6\\x01H\\x02\\x98\\x05\\x00\\x14\\x00P\\x01@\\x05\\x00\\x14\\x00P\\x02\\xd0\\x01@\\x05\\x00\\x14\\x00P\\x01@\\x05\\x00\\x14\\x00\\xb4\\x00\\x94\\x00P\\x01@\\x0b@\\t@\\x05\\x00\\x14\\x00t\\xa0\\x02\\x80\\x03@\\x05\\x00\\x14\\x00P\\x01@\\x05'\n"
     ]
    }
   ],
   "source": [
    "import cv2\n",
    "import socket\n",
    "import numpy as np\n",
    "import threading\n",
    "import struct  # Tambahkan ini untuk mengimpor modul struct\n",
    "\n",
    "# Inisialisasi server socket\n",
    "host = '172.16.2.72'  # Ganti dengan alamat IP server Anda\n",
    "port = 8080       # Port untuk menerima koneksi MJPEG\n",
    "\n",
    "server_socket = socket.socket(socket.AF_INET, socket.SOCK_STREAM)\n",
    "server_socket.bind((host, port))\n",
    "server_socket.listen(5)\n",
    "\n",
    "print(f\"Server berjalan di {host}:{port}\")\n",
    "\n",
    "def handle_client(client_socket):\n",
    "    try:\n",
    "        print(\"Client terhubung\")\n",
    "        data = b\"\"\n",
    "        payload_size = struct.calcsize(\">L\")\n",
    "        while True:\n",
    "            while len(data) < payload_size:\n",
    "                data += client_socket.recv(4096)\n",
    "                print(data)\n",
    "            packed_msg_size = data[:payload_size]\n",
    "            data = data[payload_size:]\n",
    "            msg_size = struct.unpack(\">L\", packed_msg_size)[0]\n",
    "            while len(data) < msg_size:\n",
    "                data += client_socket.recv(4096)\n",
    "            frame_data = data[:msg_size]\n",
    "            data = data[msg_size:]\n",
    "            \n",
    "            # Lakukan sesuatu dengan data MJPEG yang diterima\n",
    "            frame = cv2.imdecode(np.frombuffer(frame_data, dtype=np.uint8), cv2.IMREAD_COLOR)\n",
    "            \n",
    "            # Di sini Anda bisa melakukan pemrosesan frame atau menampilkannya\n",
    "            cv2.imshow('Frame', frame)\n",
    "            cv2.waitKey(1)\n",
    "    \n",
    "    except Exception as e:\n",
    "        print(f\"Error: {e}\")\n",
    "    finally:\n",
    "        client_socket.close()\n",
    "        print(\"Koneksi ditutup\")\n",
    "\n",
    "while True:\n",
    "    client_sock, addr = server_socket.accept()\n",
    "    client_handler = threading.Thread(target=handle_client, args=(client_sock,))\n",
    "    client_handler.start()\n"
   ]
  },
  {
   "cell_type": "code",
   "execution_count": null,
   "id": "aee188eb",
   "metadata": {},
   "outputs": [
    {
     "name": "stdout",
     "output_type": "stream",
     "text": [
      "Server berjalan di 172.16.2.72:8080\n"
     ]
    }
   ],
   "source": [
    "import cv2\n",
    "import socket\n",
    "import numpy as np\n",
    "import threading\n",
    "\n",
    "# Inisialisasi server socket\n",
    "host = '172.16.2.72'  # Ganti dengan alamat IP server Anda\n",
    "port = 8080       # Port untuk menerima koneksi MJPEG\n",
    "\n",
    "server_socket = socket.socket(socket.AF_INET, socket.SOCK_STREAM)\n",
    "server_socket.bind((host, port))\n",
    "server_socket.listen(5)\n",
    "\n",
    "print(f\"Server berjalan di {host}:{port}\")\n",
    "\n",
    "def handle_client(client_socket):\n",
    "    try:\n",
    "        print(\"Client terhubung\")\n",
    "        data = b\"\"\n",
    "        boundary = None\n",
    "        \n",
    "        while True:\n",
    "            data += client_socket.recv(4096)\n",
    "            print(data)\n",
    "            # Cari boundary\n",
    "#             if boundary is None:\n",
    "#                 boundary_index = data.find(b'\\r\\n')\n",
    "#                 if boundary_index != -1:\n",
    "#                     boundary = data[:boundary_index]\n",
    "#                     data = data[boundary_index+4:]\n",
    "#                     print(data)\n",
    "#             if boundary and boundary in data:\n",
    "#                 frame_data = data.split(boundary, 1)[1]\n",
    "#                 data = b\"\"\n",
    "                \n",
    "#                 # Cari panjang frame\n",
    "#                 content_length_index = frame_data.find(b'Content-Length: ')\n",
    "#                 content_length = int(frame_data[content_length_index+16:frame_data.find(b'\\r\\n', content_length_index)])\n",
    "                \n",
    "#                 # Potong frame\n",
    "#                 frame_start = frame_data.find(b'\\r\\n\\r\\n') + 4\n",
    "#                 frame_end = frame_start + content_length\n",
    "#                 frame = frame_data[frame_start:frame_end]\n",
    "                \n",
    "#                 # Dekode frame ke dalam gambar\n",
    "#                 img = cv2.imdecode(np.frombuffer(frame, dtype=np.uint8), cv2.IMREAD_COLOR)\n",
    "                \n",
    "#                 # Tampilkan gambar\n",
    "#                 cv2.imshow('Video Streaming', img)\n",
    "#                 cv2.waitKey(1)\n",
    "                \n",
    "    except Exception as e:\n",
    "        print(f\"Error: {e}\")\n",
    "    finally:\n",
    "        client_socket.close()\n",
    "        print(\"Koneksi ditutup\")\n",
    "\n",
    "while True:\n",
    "    client_sock, addr = server_socket.accept()\n",
    "    client_handler = threading.Thread(target=handle_client, args=(client_sock,))\n",
    "    client_handler.start()\n"
   ]
  }
 ],
 "metadata": {
  "kernelspec": {
   "display_name": "Python 3 (ipykernel)",
   "language": "python",
   "name": "python3"
  },
  "language_info": {
   "codemirror_mode": {
    "name": "ipython",
    "version": 3
   },
   "file_extension": ".py",
   "mimetype": "text/x-python",
   "name": "python",
   "nbconvert_exporter": "python",
   "pygments_lexer": "ipython3",
   "version": "3.10.12"
  }
 },
 "nbformat": 4,
 "nbformat_minor": 5
}
