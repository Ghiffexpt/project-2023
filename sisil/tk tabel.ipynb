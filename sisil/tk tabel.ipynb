{
 "cells": [
  {
   "cell_type": "code",
   "execution_count": null,
   "id": "a0dcc181",
   "metadata": {},
   "outputs": [
    {
     "name": "stdout",
     "output_type": "stream",
     "text": [
      "Program dimulai\n",
      "a\n"
     ]
    }
   ],
   "source": [
    "import tkinter as tk\n",
    "\n",
    "def eksekusi_setelah_penundaan():\n",
    "    # Aktifkan mainloop setelah 10 detik\n",
    "    window.deiconify()  # Menampilkan jendela jika perlu\n",
    "    window.mainloop()\n",
    "print(\"Program dimulai\")  # Ini akan di-print saat program dimulai\n",
    "\n",
    "# Buat jendela (window) Tkinter\n",
    "window = tk.Tk()\n",
    "window.withdraw()  # Menyembunyikan jendela awal\n",
    "\n",
    "# Atur penundaan selama 10 detik sebelum menjalankan mainloop\n",
    "window.after(10000, eksekusi_setelah_penundaan)\n",
    "\n",
    "# Anda dapat menambahkan elemen-elemen GUI dan fungsi lain di sini\n",
    "print(\"a\")\n",
    "# Memulai program\n",
    "window.mainloop()"
   ]
  },
  {
   "cell_type": "code",
   "execution_count": 1,
   "id": "2bf87840",
   "metadata": {},
   "outputs": [
    {
     "name": "stdout",
     "output_type": "stream",
     "text": [
      "Loop sedang berjalan\n"
     ]
    }
   ],
   "source": [
    "import tkinter as tk\n",
    "import threading\n",
    "import time\n",
    "\n",
    "def eksekusi_setelah_penundaan():\n",
    "    window.deiconify()  # Menampilkan jendela jika perlu\n",
    "    window.mainloop()\n",
    "\n",
    "def update_label_text(new_text):\n",
    "    label.config(text=new_text)\n",
    "\n",
    "def main_loop():\n",
    "    while True:\n",
    "        print(\"Loop sedang berjalan\")\n",
    "        time.sleep(5)\n",
    "        # Lakukan tugas lain dalam loop\n",
    "        window.after(0, update_label_text, \"Loop berjalan...\")\n",
    "\n",
    "# Buat GUI\n",
    "window = tk.Tk()\n",
    "window.title(\"GUI Loop Example\")\n",
    "\n",
    "label = tk.Label(window, text=\"Tunggu...\")\n",
    "label.pack(padx=10, pady=10)\n",
    "\n",
    "# Atur penundaan selama 10 detik sebelum menampilkan jendela\n",
    "window.after(10000, eksekusi_setelah_penundaan)\n",
    "\n",
    "# Mulai menjalankan mainloop dalam thread utama\n",
    "main_loop_thread = threading.Thread(target=main_loop)\n",
    "main_loop_thread.start()\n",
    "\n",
    "# Jalankan mainloop\n"
   ]
  }
 ],
 "metadata": {
  "kernelspec": {
   "display_name": "Python 3 (ipykernel)",
   "language": "python",
   "name": "python3"
  },
  "language_info": {
   "codemirror_mode": {
    "name": "ipython",
    "version": 3
   },
   "file_extension": ".py",
   "mimetype": "text/x-python",
   "name": "python",
   "nbconvert_exporter": "python",
   "pygments_lexer": "ipython3",
   "version": "3.10.12"
  }
 },
 "nbformat": 4,
 "nbformat_minor": 5
}
