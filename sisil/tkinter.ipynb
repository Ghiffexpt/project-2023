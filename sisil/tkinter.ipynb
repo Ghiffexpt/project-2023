{
 "cells": [
  {
   "cell_type": "code",
   "execution_count": 5,
   "id": "c073fdce",
   "metadata": {},
   "outputs": [],
   "source": [
    "import tkinter as tk\n",
    "from tkinter import ttk"
   ]
  },
  {
   "cell_type": "code",
   "execution_count": 6,
   "id": "fceafdb2",
   "metadata": {},
   "outputs": [],
   "source": [
    "import socket\n",
    "\n",
    "HOST = \"172.16.0.121\"  # The server's hostname or IP address\n",
    "PORT = 80 "
   ]
  },
  {
   "cell_type": "code",
   "execution_count": 8,
   "id": "fc5a9c8a",
   "metadata": {},
   "outputs": [],
   "source": [
    "def SendData():\n",
    "    with socket.socket(socket.AF_INET, socket.SOCK_STREAM) as s:\n",
    "        s.connect((HOST, PORT))\n",
    "        s.sendall(b\"Hello, world\")\n",
    "        print(\"DONE\")"
   ]
  },
  {
   "cell_type": "code",
   "execution_count": 7,
   "id": "587597a5",
   "metadata": {},
   "outputs": [],
   "source": [
    "\n",
    "window = tk.Tk()\n",
    "window.configure(bg=\"white\")\n",
    "window.geometry(\"300x200\")\n",
    "window.resizable(False,False)\n",
    "window.title(\"HAI\")\n",
    "\n",
    "B = tk.Button(window, text =\"Hello\", command = SendData)\n",
    "\n",
    "B.pack()"
   ]
  },
  {
   "cell_type": "code",
   "execution_count": null,
   "id": "ce2693c3",
   "metadata": {},
   "outputs": [],
   "source": [
    "!sudo apt-get install python3-tk"
   ]
  },
  {
   "cell_type": "code",
   "execution_count": 9,
   "id": "f333e126",
   "metadata": {},
   "outputs": [],
   "source": [
    "window.mainloop()\n"
   ]
  }
 ],
 "metadata": {
  "kernelspec": {
   "display_name": "Python 3 (ipykernel)",
   "language": "python",
   "name": "python3"
  },
  "language_info": {
   "codemirror_mode": {
    "name": "ipython",
    "version": 3
   },
   "file_extension": ".py",
   "mimetype": "text/x-python",
   "name": "python",
   "nbconvert_exporter": "python",
   "pygments_lexer": "ipython3",
   "version": "3.10.12"
  }
 },
 "nbformat": 4,
 "nbformat_minor": 5
}
