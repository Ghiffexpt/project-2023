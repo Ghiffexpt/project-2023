{
 "cells": [
  {
   "cell_type": "code",
   "execution_count": 2,
   "id": "00c960b1",
   "metadata": {},
   "outputs": [
    {
     "name": "stdout",
     "output_type": "stream",
     "text": [
      "SG10\n"
     ]
    },
    {
     "ename": "SerialException",
     "evalue": "device reports readiness to read but returned no data (device disconnected or multiple access on port?)",
     "output_type": "error",
     "traceback": [
      "\u001b[0;31m---------------------------------------------------------------------------\u001b[0m",
      "\u001b[0;31mSerialException\u001b[0m                           Traceback (most recent call last)",
      "Cell \u001b[0;32mIn[2], line 11\u001b[0m\n\u001b[1;32m      9\u001b[0m \u001b[38;5;28mprint\u001b[39m(DATA)\n\u001b[1;32m     10\u001b[0m \u001b[38;5;28;01mwhile\u001b[39;00m \u001b[38;5;241m1\u001b[39m:\n\u001b[0;32m---> 11\u001b[0m     received_data \u001b[38;5;241m=\u001b[39m \u001b[43mser\u001b[49m\u001b[38;5;241;43m.\u001b[39;49m\u001b[43mreadline\u001b[49m\u001b[43m(\u001b[49m\u001b[43m)\u001b[49m\u001b[38;5;241m.\u001b[39mdecode(\u001b[38;5;124m'\u001b[39m\u001b[38;5;124mutf-8\u001b[39m\u001b[38;5;124m'\u001b[39m)\u001b[38;5;241m.\u001b[39mstrip()\n\u001b[1;32m     12\u001b[0m     \u001b[38;5;28mprint\u001b[39m(\u001b[38;5;124m\"\u001b[39m\u001b[38;5;124mReceived:\u001b[39m\u001b[38;5;124m\"\u001b[39m, received_data)\n",
      "File \u001b[0;32m~/envgip/lib/python3.10/site-packages/serial/serialposix.py:595\u001b[0m, in \u001b[0;36mSerial.read\u001b[0;34m(self, size)\u001b[0m\n\u001b[1;32m    588\u001b[0m \u001b[38;5;28;01melse\u001b[39;00m:\n\u001b[1;32m    589\u001b[0m     \u001b[38;5;66;03m# read should always return some data as select reported it was\u001b[39;00m\n\u001b[1;32m    590\u001b[0m     \u001b[38;5;66;03m# ready to read when we get to this point.\u001b[39;00m\n\u001b[1;32m    591\u001b[0m     \u001b[38;5;28;01mif\u001b[39;00m \u001b[38;5;129;01mnot\u001b[39;00m buf:\n\u001b[1;32m    592\u001b[0m         \u001b[38;5;66;03m# Disconnected devices, at least on Linux, show the\u001b[39;00m\n\u001b[1;32m    593\u001b[0m         \u001b[38;5;66;03m# behavior that they are always ready to read immediately\u001b[39;00m\n\u001b[1;32m    594\u001b[0m         \u001b[38;5;66;03m# but reading returns nothing.\u001b[39;00m\n\u001b[0;32m--> 595\u001b[0m         \u001b[38;5;28;01mraise\u001b[39;00m SerialException(\n\u001b[1;32m    596\u001b[0m             \u001b[38;5;124m'\u001b[39m\u001b[38;5;124mdevice reports readiness to read but returned no data \u001b[39m\u001b[38;5;124m'\u001b[39m\n\u001b[1;32m    597\u001b[0m             \u001b[38;5;124m'\u001b[39m\u001b[38;5;124m(device disconnected or multiple access on port?)\u001b[39m\u001b[38;5;124m'\u001b[39m)\n\u001b[1;32m    598\u001b[0m     read\u001b[38;5;241m.\u001b[39mextend(buf)\n\u001b[1;32m    600\u001b[0m \u001b[38;5;28;01mif\u001b[39;00m timeout\u001b[38;5;241m.\u001b[39mexpired():\n",
      "\u001b[0;31mSerialException\u001b[0m: device reports readiness to read but returned no data (device disconnected or multiple access on port?)"
     ]
    }
   ],
   "source": [
    "\n",
    "import serial\n",
    " \n",
    "ser = serial.Serial(\n",
    "    port='/dev/ttyUSB1',\n",
    "    baudrate=9600,\n",
    ")\n",
    "DATA = \"SG10\"\n",
    "ser.write(DATA.encode('utf-8')) \n",
    "print(DATA)\n",
    "while 1:\n",
    "    received_data = ser.readline().decode('utf-8').strip()\n",
    "    print(\"Received:\", received_data)\n"
   ]
  }
 ],
 "metadata": {
  "kernelspec": {
   "display_name": "Python 3 (ipykernel)",
   "language": "python",
   "name": "python3"
  },
  "language_info": {
   "codemirror_mode": {
    "name": "ipython",
    "version": 3
   },
   "file_extension": ".py",
   "mimetype": "text/x-python",
   "name": "python",
   "nbconvert_exporter": "python",
   "pygments_lexer": "ipython3",
   "version": "3.10.12"
  }
 },
 "nbformat": 4,
 "nbformat_minor": 5
}
